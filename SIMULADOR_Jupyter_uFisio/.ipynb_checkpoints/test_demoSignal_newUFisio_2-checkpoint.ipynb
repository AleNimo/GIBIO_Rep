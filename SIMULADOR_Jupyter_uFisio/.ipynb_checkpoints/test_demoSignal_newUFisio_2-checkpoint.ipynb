{
 "cells": [
  {
   "cell_type": "code",
   "execution_count": 1,
   "metadata": {},
   "outputs": [],
   "source": [
    "import numpy as np\n",
    "import sys\n",
    "import serial\n",
    "import time\n",
    "import math\n",
    "import matplotlib.pyplot as plt\n",
    "import os\n",
    "import pandas as pd"
   ]
  },
  {
   "cell_type": "markdown",
   "metadata": {},
   "source": [
    "------------"
   ]
  },
  {
   "cell_type": "markdown",
   "metadata": {},
   "source": [
    "para envio de datos convencional"
   ]
  },
  {
   "cell_type": "code",
   "execution_count": 2,
   "metadata": {},
   "outputs": [],
   "source": [
    "ser = serial.Serial('COM4',115200,bytesize=serial.EIGHTBITS,parity=serial.PARITY_NONE,stopbits=serial.STOPBITS_ONE,timeout=None)    "
   ]
  },
  {
   "cell_type": "code",
   "execution_count": 3,
   "metadata": {},
   "outputs": [
    {
     "name": "stdout",
     "output_type": "stream",
     "text": [
      "COM4\n"
     ]
    },
    {
     "data": {
      "text/plain": [
       "True"
      ]
     },
     "execution_count": 3,
     "metadata": {},
     "output_type": "execute_result"
    }
   ],
   "source": [
    "print(ser.name)         \n",
    "if ser.isOpen():\n",
    "    ser.close()\n",
    "ser.open()\n",
    "ser.isOpen()"
   ]
  },
  {
   "cell_type": "markdown",
   "metadata": {},
   "source": [
    "Protocolo uFisio __NEW__"
   ]
  },
  {
   "cell_type": "code",
   "execution_count": 4,
   "metadata": {},
   "outputs": [],
   "source": [
    "def envio_sync():\n",
    "    #trama_sincronismo = bytes([0x23,0x23,0x0D,0x0A])\n",
    "    #trama_sincronismo = bytes([0x23,0x23,0x0D])\n",
    "    trama_sincronismo = bytes([0x23,0x23])\n",
    "    env = ser.write(trama_sincronismo)\n",
    "    time.sleep((1/1000)*3)\n",
    "def envio_dato(dato_ECG,dato_PPG):    \n",
    "    dato_distancia =\n",
    "    dato_PACa_bin = (dato_ECG).to_bytes(2,'big',signed=False)\n",
    "    dato_PAFem_bin = (dato_PPG).to_bytes(3,'big',signed=False)\n",
    "    trama = bytes([dato_ECG_bin[0],dato_ECG_bin[1],dato_PPG_bin[0],dato_PPG_bin[1],dato_PPG_bin[2]])\n",
    "    env = ser.write(trama)                  \n",
    "    time.sleep((1/1000)*3)"
   ]
  },
  {
   "cell_type": "markdown",
   "metadata": {},
   "source": [
    "------------"
   ]
  },
  {
   "cell_type": "code",
   "execution_count": 5,
   "metadata": {},
   "outputs": [
    {
     "data": {
      "text/plain": [
       "['188_MIT.txt',\n",
       " '188_MIT_PresCar.xml',\n",
       " '188_MIT_PresHumIzq.xml',\n",
       " '189_MIT.txt',\n",
       " '189_MIT_PresCar.xml',\n",
       " '189_MIT_PresRadDer.xml',\n",
       " '190_MIT.txt',\n",
       " '190_MIT_PresCar.xml',\n",
       " '190_MIT_PresRadIzq.xml',\n",
       " '191_MIT.txt',\n",
       " '192_MIT.txt',\n",
       " '194_MIT.txt',\n",
       " '195_MIT.txt',\n",
       " '197_MIT.txt']"
      ]
     },
     "execution_count": 5,
     "metadata": {},
     "output_type": "execute_result"
    }
   ],
   "source": [
    "os.chdir(\"C:/misArchivos/gibio/señales para simulacion/VOP\")\n",
    "os.listdir()"
   ]
  },
  {
   "cell_type": "code",
   "execution_count": 11,
   "metadata": {},
   "outputs": [],
   "source": [
    "filename = '188_MIT.txt'"
   ]
  },
  {
   "cell_type": "code",
   "execution_count": 12,
   "metadata": {},
   "outputs": [
    {
     "name": "stdout",
     "output_type": "stream",
     "text": [
      "(225, 3)\n"
     ]
    },
    {
     "data": {
      "text/html": [
       "<div>\n",
       "<style scoped>\n",
       "    .dataframe tbody tr th:only-of-type {\n",
       "        vertical-align: middle;\n",
       "    }\n",
       "\n",
       "    .dataframe tbody tr th {\n",
       "        vertical-align: top;\n",
       "    }\n",
       "\n",
       "    .dataframe thead th {\n",
       "        text-align: right;\n",
       "    }\n",
       "</style>\n",
       "<table border=\"1\" class=\"dataframe\">\n",
       "  <thead>\n",
       "    <tr style=\"text-align: right;\">\n",
       "      <th></th>\n",
       "      <th>tiempo</th>\n",
       "      <th>pres_car</th>\n",
       "      <th>pres_hum_izq</th>\n",
       "    </tr>\n",
       "  </thead>\n",
       "  <tbody>\n",
       "    <tr>\n",
       "      <th>0</th>\n",
       "      <td>00:00.000</td>\n",
       "      <td>204</td>\n",
       "      <td>97</td>\n",
       "    </tr>\n",
       "    <tr>\n",
       "      <th>1</th>\n",
       "      <td>00:00.001</td>\n",
       "      <td>203</td>\n",
       "      <td>96</td>\n",
       "    </tr>\n",
       "    <tr>\n",
       "      <th>2</th>\n",
       "      <td>00:00.002</td>\n",
       "      <td>203</td>\n",
       "      <td>95</td>\n",
       "    </tr>\n",
       "    <tr>\n",
       "      <th>3</th>\n",
       "      <td>00:00.003</td>\n",
       "      <td>203</td>\n",
       "      <td>95</td>\n",
       "    </tr>\n",
       "    <tr>\n",
       "      <th>4</th>\n",
       "      <td>00:00.004</td>\n",
       "      <td>203</td>\n",
       "      <td>96</td>\n",
       "    </tr>\n",
       "  </tbody>\n",
       "</table>\n",
       "</div>"
      ],
      "text/plain": [
       "      tiempo  pres_car  pres_hum_izq\n",
       "0  00:00.000       204            97\n",
       "1  00:00.001       203            96\n",
       "2  00:00.002       203            95\n",
       "3  00:00.003       203            95\n",
       "4  00:00.004       203            96"
      ]
     },
     "execution_count": 12,
     "metadata": {},
     "output_type": "execute_result"
    }
   ],
   "source": [
    "df_signal = pd.read_csv(filename,delim_whitespace=True,header=1)\n",
    "cols_ori = [col for col in df_signal.columns]\n",
    "cols_rep = ['tiempo','pres_car','pres_hum_izq']\n",
    "dict_cols = {i:j for i,j in zip(cols_ori,cols_rep)}\n",
    "df_signal.rename(columns=dict_cols,inplace=True)\n",
    "print(df_signal.shape)\n",
    "df_signal.head()"
   ]
  },
  {
   "cell_type": "code",
   "execution_count": 13,
   "metadata": {},
   "outputs": [
    {
     "name": "stdout",
     "output_type": "stream",
     "text": [
      "<class 'pandas.core.frame.DataFrame'>\n",
      "RangeIndex: 225 entries, 0 to 224\n",
      "Data columns (total 3 columns):\n",
      " #   Column        Non-Null Count  Dtype \n",
      "---  ------        --------------  ----- \n",
      " 0   tiempo        225 non-null    object\n",
      " 1   pres_car      225 non-null    int64 \n",
      " 2   pres_hum_izq  225 non-null    int64 \n",
      "dtypes: int64(2), object(1)\n",
      "memory usage: 5.4+ KB\n"
     ]
    }
   ],
   "source": [
    "df_signal.info()"
   ]
  },
  {
   "cell_type": "code",
   "execution_count": 14,
   "metadata": {},
   "outputs": [],
   "source": [
    "for i,row in enumerate(df_signal.iterrows()):\n",
    "    if i%50 == 0:\n",
    "        envio_sync()\n",
    "    envio_dato(row[1]['pres_car'],row[1]['pres_hum_izq'])"
   ]
  },
  {
   "cell_type": "markdown",
   "metadata": {},
   "source": [
    "------------"
   ]
  },
  {
   "cell_type": "code",
   "execution_count": 15,
   "metadata": {},
   "outputs": [
    {
     "data": {
      "text/plain": [
       "['AGUIRRE_N_CA-FEM_Leandro_MIT (2).txt',\n",
       " 'BORTONI CA-FEM_Leandro_MIT (2).txt',\n",
       " 'BORTONI CA-FEM_Leandro_MIT.txt',\n",
       " 'MCMULLEN_CAR_FEM_Leandro_MIT.txt',\n",
       " 'SFARA Cafem_Leandro_MIT.txt',\n",
       " 'VASSENA_CAR_FEM_Leandro_MIT.txt']"
      ]
     },
     "execution_count": 15,
     "metadata": {},
     "output_type": "execute_result"
    }
   ],
   "source": [
    "os.chdir(\"C:/misArchivos/gibio/señales para simulacion/señales con resumen valores caracteristicos/signals\")\n",
    "os.listdir()"
   ]
  },
  {
   "cell_type": "code",
   "execution_count": 16,
   "metadata": {},
   "outputs": [],
   "source": [
    "filename = 'VASSENA_CAR_FEM_Leandro_MIT.txt'"
   ]
  },
  {
   "cell_type": "code",
   "execution_count": 17,
   "metadata": {},
   "outputs": [
    {
     "name": "stdout",
     "output_type": "stream",
     "text": [
      "(40880, 4)\n"
     ]
    },
    {
     "data": {
      "text/html": [
       "<div>\n",
       "<style scoped>\n",
       "    .dataframe tbody tr th:only-of-type {\n",
       "        vertical-align: middle;\n",
       "    }\n",
       "\n",
       "    .dataframe tbody tr th {\n",
       "        vertical-align: top;\n",
       "    }\n",
       "\n",
       "    .dataframe thead th {\n",
       "        text-align: right;\n",
       "    }\n",
       "</style>\n",
       "<table border=\"1\" class=\"dataframe\">\n",
       "  <thead>\n",
       "    <tr style=\"text-align: right;\">\n",
       "      <th></th>\n",
       "      <th>tiempo</th>\n",
       "      <th>canal_1</th>\n",
       "      <th>canal_2</th>\n",
       "      <th>canal_3</th>\n",
       "    </tr>\n",
       "  </thead>\n",
       "  <tbody>\n",
       "    <tr>\n",
       "      <th>0</th>\n",
       "      <td>00:00.000</td>\n",
       "      <td>-265728</td>\n",
       "      <td>-118272</td>\n",
       "      <td>33280</td>\n",
       "    </tr>\n",
       "    <tr>\n",
       "      <th>1</th>\n",
       "      <td>00:00.004</td>\n",
       "      <td>-259840</td>\n",
       "      <td>-116992</td>\n",
       "      <td>33280</td>\n",
       "    </tr>\n",
       "    <tr>\n",
       "      <th>2</th>\n",
       "      <td>00:00.008</td>\n",
       "      <td>-259328</td>\n",
       "      <td>-115456</td>\n",
       "      <td>33280</td>\n",
       "    </tr>\n",
       "    <tr>\n",
       "      <th>3</th>\n",
       "      <td>00:00.012</td>\n",
       "      <td>-261632</td>\n",
       "      <td>-114432</td>\n",
       "      <td>33280</td>\n",
       "    </tr>\n",
       "    <tr>\n",
       "      <th>4</th>\n",
       "      <td>00:00.016</td>\n",
       "      <td>-264448</td>\n",
       "      <td>-113152</td>\n",
       "      <td>33280</td>\n",
       "    </tr>\n",
       "  </tbody>\n",
       "</table>\n",
       "</div>"
      ],
      "text/plain": [
       "      tiempo  canal_1  canal_2  canal_3\n",
       "0  00:00.000  -265728  -118272    33280\n",
       "1  00:00.004  -259840  -116992    33280\n",
       "2  00:00.008  -259328  -115456    33280\n",
       "3  00:00.012  -261632  -114432    33280\n",
       "4  00:00.016  -264448  -113152    33280"
      ]
     },
     "execution_count": 17,
     "metadata": {},
     "output_type": "execute_result"
    }
   ],
   "source": [
    "df_signal = pd.read_csv(filename,delim_whitespace=True,header=1)\n",
    "cols_ori = [col for col in df_signal.columns]\n",
    "cols_rep = ['tiempo','canal_1','canal_2','canal_3']\n",
    "dict_cols = {i:j for i,j in zip(cols_ori,cols_rep)}\n",
    "df_signal.rename(columns=dict_cols,inplace=True)\n",
    "print(df_signal.shape)\n",
    "df_signal.head()"
   ]
  },
  {
   "cell_type": "code",
   "execution_count": 56,
   "metadata": {},
   "outputs": [
    {
     "name": "stdout",
     "output_type": "stream",
     "text": [
      "<class 'pandas.core.frame.DataFrame'>\n",
      "RangeIndex: 17932 entries, 0 to 17931\n",
      "Data columns (total 4 columns):\n",
      " #   Column   Non-Null Count  Dtype \n",
      "---  ------   --------------  ----- \n",
      " 0   tiempo   17932 non-null  object\n",
      " 1   canal_1  17932 non-null  int64 \n",
      " 2   canal_2  17932 non-null  int64 \n",
      " 3   canal_3  17932 non-null  int64 \n",
      "dtypes: int64(3), object(1)\n",
      "memory usage: 560.5+ KB\n"
     ]
    }
   ],
   "source": [
    "df_signal.info()"
   ]
  },
  {
   "cell_type": "code",
   "execution_count": 18,
   "metadata": {},
   "outputs": [
    {
     "data": {
      "text/html": [
       "<div>\n",
       "<style scoped>\n",
       "    .dataframe tbody tr th:only-of-type {\n",
       "        vertical-align: middle;\n",
       "    }\n",
       "\n",
       "    .dataframe tbody tr th {\n",
       "        vertical-align: top;\n",
       "    }\n",
       "\n",
       "    .dataframe thead th {\n",
       "        text-align: right;\n",
       "    }\n",
       "</style>\n",
       "<table border=\"1\" class=\"dataframe\">\n",
       "  <thead>\n",
       "    <tr style=\"text-align: right;\">\n",
       "      <th></th>\n",
       "      <th>canal_1</th>\n",
       "      <th>canal_2</th>\n",
       "      <th>canal_3</th>\n",
       "    </tr>\n",
       "  </thead>\n",
       "  <tbody>\n",
       "    <tr>\n",
       "      <th>count</th>\n",
       "      <td>40880.00</td>\n",
       "      <td>40880.00</td>\n",
       "      <td>40880.00</td>\n",
       "    </tr>\n",
       "    <tr>\n",
       "      <th>mean</th>\n",
       "      <td>-330585.89</td>\n",
       "      <td>-71604.12</td>\n",
       "      <td>33253.55</td>\n",
       "    </tr>\n",
       "    <tr>\n",
       "      <th>std</th>\n",
       "      <td>1871646.62</td>\n",
       "      <td>1438753.64</td>\n",
       "      <td>820.41</td>\n",
       "    </tr>\n",
       "    <tr>\n",
       "      <th>min</th>\n",
       "      <td>-8388608.00</td>\n",
       "      <td>-8388608.00</td>\n",
       "      <td>16384.00</td>\n",
       "    </tr>\n",
       "    <tr>\n",
       "      <th>25%</th>\n",
       "      <td>-819584.00</td>\n",
       "      <td>-518976.00</td>\n",
       "      <td>33280.00</td>\n",
       "    </tr>\n",
       "    <tr>\n",
       "      <th>50%</th>\n",
       "      <td>-206080.00</td>\n",
       "      <td>-189440.00</td>\n",
       "      <td>33280.00</td>\n",
       "    </tr>\n",
       "    <tr>\n",
       "      <th>75%</th>\n",
       "      <td>-77568.00</td>\n",
       "      <td>56640.00</td>\n",
       "      <td>33280.00</td>\n",
       "    </tr>\n",
       "    <tr>\n",
       "      <th>max</th>\n",
       "      <td>8388352.00</td>\n",
       "      <td>8388352.00</td>\n",
       "      <td>54784.00</td>\n",
       "    </tr>\n",
       "  </tbody>\n",
       "</table>\n",
       "</div>"
      ],
      "text/plain": [
       "          canal_1     canal_2   canal_3\n",
       "count    40880.00    40880.00  40880.00\n",
       "mean   -330585.89   -71604.12  33253.55\n",
       "std    1871646.62  1438753.64    820.41\n",
       "min   -8388608.00 -8388608.00  16384.00\n",
       "25%    -819584.00  -518976.00  33280.00\n",
       "50%    -206080.00  -189440.00  33280.00\n",
       "75%     -77568.00    56640.00  33280.00\n",
       "max    8388352.00  8388352.00  54784.00"
      ]
     },
     "execution_count": 18,
     "metadata": {},
     "output_type": "execute_result"
    }
   ],
   "source": [
    "df_signal.describe().round(2)"
   ]
  },
  {
   "cell_type": "code",
   "execution_count": null,
   "metadata": {},
   "outputs": [],
   "source": [
    "div = 1000 #para envio de valores muy altos y no modificar funcion de envio\n",
    "for i,row in enumerate(df_signal.iterrows()):\n",
    "    ECG = abs(int(row[1]['canal_1']/div))\n",
    "    PPG = abs(int(row[1]['canal_2']/div))\n",
    "    if i%50 == 0:\n",
    "        envio_sync()\n",
    "    envio_dato(ECG,PPG)\n",
    "    if i > 10000:\n",
    "        break"
   ]
  },
  {
   "cell_type": "markdown",
   "metadata": {},
   "source": [
    "------------"
   ]
  },
  {
   "cell_type": "code",
   "execution_count": 20,
   "metadata": {},
   "outputs": [
    {
     "data": {
      "text/plain": [
       "['Datos_Ufisio_bth_1ch_ca2_crudos.txt',\n",
       " 'Datos_Ufisio_bth_1ch_serialplot',\n",
       " 'Datos_Ufisio_bth_1ch_serialplot - copia.txt',\n",
       " 'nota.txt']"
      ]
     },
     "execution_count": 20,
     "metadata": {},
     "output_type": "execute_result"
    }
   ],
   "source": [
    "os.chdir(\"C:/misArchivos/gibio/30192020\")\n",
    "os.listdir()"
   ]
  },
  {
   "cell_type": "code",
   "execution_count": 22,
   "metadata": {},
   "outputs": [],
   "source": [
    "filename = 'Datos_Ufisio_bth_1ch_serialplot - copia.txt'"
   ]
  },
  {
   "cell_type": "code",
   "execution_count": 24,
   "metadata": {},
   "outputs": [
    {
     "name": "stdout",
     "output_type": "stream",
     "text": [
      "(5209, 1)\n"
     ]
    },
    {
     "data": {
      "text/html": [
       "<div>\n",
       "<style scoped>\n",
       "    .dataframe tbody tr th:only-of-type {\n",
       "        vertical-align: middle;\n",
       "    }\n",
       "\n",
       "    .dataframe tbody tr th {\n",
       "        vertical-align: top;\n",
       "    }\n",
       "\n",
       "    .dataframe thead th {\n",
       "        text-align: right;\n",
       "    }\n",
       "</style>\n",
       "<table border=\"1\" class=\"dataframe\">\n",
       "  <thead>\n",
       "    <tr style=\"text-align: right;\">\n",
       "      <th></th>\n",
       "      <th>canal_1</th>\n",
       "    </tr>\n",
       "  </thead>\n",
       "  <tbody>\n",
       "    <tr>\n",
       "      <th>0</th>\n",
       "      <td>-1.073938e+09</td>\n",
       "    </tr>\n",
       "    <tr>\n",
       "      <th>1</th>\n",
       "      <td>-1.057161e+09</td>\n",
       "    </tr>\n",
       "    <tr>\n",
       "      <th>2</th>\n",
       "      <td>-1.073938e+09</td>\n",
       "    </tr>\n",
       "    <tr>\n",
       "      <th>3</th>\n",
       "      <td>-1.057161e+09</td>\n",
       "    </tr>\n",
       "    <tr>\n",
       "      <th>4</th>\n",
       "      <td>-1.057161e+09</td>\n",
       "    </tr>\n",
       "  </tbody>\n",
       "</table>\n",
       "</div>"
      ],
      "text/plain": [
       "        canal_1\n",
       "0 -1.073938e+09\n",
       "1 -1.057161e+09\n",
       "2 -1.073938e+09\n",
       "3 -1.057161e+09\n",
       "4 -1.057161e+09"
      ]
     },
     "execution_count": 24,
     "metadata": {},
     "output_type": "execute_result"
    }
   ],
   "source": [
    "df_signal = pd.read_csv(filename,delim_whitespace=True,header=1)\n",
    "cols_ori = [col for col in df_signal.columns]\n",
    "cols_rep = ['canal_1']\n",
    "dict_cols = {i:j for i,j in zip(cols_ori,cols_rep)}\n",
    "df_signal.rename(columns=dict_cols,inplace=True)\n",
    "print(df_signal.shape)\n",
    "df_signal.head()"
   ]
  },
  {
   "cell_type": "code",
   "execution_count": 25,
   "metadata": {},
   "outputs": [
    {
     "name": "stdout",
     "output_type": "stream",
     "text": [
      "<class 'pandas.core.frame.DataFrame'>\n",
      "RangeIndex: 5209 entries, 0 to 5208\n",
      "Data columns (total 1 columns):\n",
      " #   Column   Non-Null Count  Dtype  \n",
      "---  ------   --------------  -----  \n",
      " 0   canal_1  5209 non-null   float64\n",
      "dtypes: float64(1)\n",
      "memory usage: 40.8 KB\n"
     ]
    }
   ],
   "source": [
    "df_signal.info()"
   ]
  },
  {
   "cell_type": "code",
   "execution_count": 34,
   "metadata": {},
   "outputs": [],
   "source": [
    "div = 100000 #para envio de valores muy altos y no modificar funcion de envio\n",
    "for i,row in enumerate(df_signal.iterrows()):\n",
    "    ECG = abs(int(row[1]['canal_1']/div))\n",
    "    if i%50 == 0:\n",
    "        envio_sync()\n",
    "    envio_dato(ECG,0)\n",
    "    #if i > 10000:\n",
    "    #    break"
   ]
  },
  {
   "cell_type": "markdown",
   "metadata": {},
   "source": [
    "------------"
   ]
  },
  {
   "cell_type": "code",
   "execution_count": 5,
   "metadata": {},
   "outputs": [
    {
     "data": {
      "text/plain": [
       "['Datos_Ufisio_bth_1ch_serialplot',\n",
       " 'Datos_Ufisio_bth_1ch_serialplot.txt',\n",
       " 'recv.csv',\n",
       " 'signal.csv']"
      ]
     },
     "execution_count": 5,
     "metadata": {},
     "output_type": "execute_result"
    }
   ],
   "source": [
    "os.chdir(\"C:/misArchivos/gibio/30192020/process\")\n",
    "os.listdir()"
   ]
  },
  {
   "cell_type": "code",
   "execution_count": 6,
   "metadata": {},
   "outputs": [],
   "source": [
    "filename = 'Datos_Ufisio_bth_1ch_serialplot.txt'"
   ]
  },
  {
   "cell_type": "code",
   "execution_count": 7,
   "metadata": {},
   "outputs": [
    {
     "name": "stdout",
     "output_type": "stream",
     "text": [
      "(5209, 1)\n"
     ]
    },
    {
     "data": {
      "text/html": [
       "<div>\n",
       "<style scoped>\n",
       "    .dataframe tbody tr th:only-of-type {\n",
       "        vertical-align: middle;\n",
       "    }\n",
       "\n",
       "    .dataframe tbody tr th {\n",
       "        vertical-align: top;\n",
       "    }\n",
       "\n",
       "    .dataframe thead th {\n",
       "        text-align: right;\n",
       "    }\n",
       "</style>\n",
       "<table border=\"1\" class=\"dataframe\">\n",
       "  <thead>\n",
       "    <tr style=\"text-align: right;\">\n",
       "      <th></th>\n",
       "      <th>canal_1</th>\n",
       "    </tr>\n",
       "  </thead>\n",
       "  <tbody>\n",
       "    <tr>\n",
       "      <th>0</th>\n",
       "      <td>-1.073938e+09</td>\n",
       "    </tr>\n",
       "    <tr>\n",
       "      <th>1</th>\n",
       "      <td>-1.057161e+09</td>\n",
       "    </tr>\n",
       "    <tr>\n",
       "      <th>2</th>\n",
       "      <td>-1.073938e+09</td>\n",
       "    </tr>\n",
       "    <tr>\n",
       "      <th>3</th>\n",
       "      <td>-1.057161e+09</td>\n",
       "    </tr>\n",
       "    <tr>\n",
       "      <th>4</th>\n",
       "      <td>-1.057161e+09</td>\n",
       "    </tr>\n",
       "  </tbody>\n",
       "</table>\n",
       "</div>"
      ],
      "text/plain": [
       "        canal_1\n",
       "0 -1.073938e+09\n",
       "1 -1.057161e+09\n",
       "2 -1.073938e+09\n",
       "3 -1.057161e+09\n",
       "4 -1.057161e+09"
      ]
     },
     "execution_count": 7,
     "metadata": {},
     "output_type": "execute_result"
    }
   ],
   "source": [
    "df_signal_ori = pd.read_csv(filename,delim_whitespace=True,header=1)\n",
    "cols_ori = [col for col in df_signal_ori.columns]\n",
    "cols_rep = ['canal_1']\n",
    "dict_cols = {i:j for i,j in zip(cols_ori,cols_rep)}\n",
    "df_signal_ori.rename(columns=dict_cols,inplace=True)\n",
    "print(df_signal_ori.shape)\n",
    "df_signal_ori.head()"
   ]
  },
  {
   "cell_type": "code",
   "execution_count": 9,
   "metadata": {},
   "outputs": [],
   "source": [
    "filename = 'recv.csv'"
   ]
  },
  {
   "cell_type": "code",
   "execution_count": 12,
   "metadata": {},
   "outputs": [
    {
     "name": "stdout",
     "output_type": "stream",
     "text": [
      "(5209, 5)\n"
     ]
    },
    {
     "data": {
      "text/html": [
       "<div>\n",
       "<style scoped>\n",
       "    .dataframe tbody tr th:only-of-type {\n",
       "        vertical-align: middle;\n",
       "    }\n",
       "\n",
       "    .dataframe tbody tr th {\n",
       "        vertical-align: top;\n",
       "    }\n",
       "\n",
       "    .dataframe thead th {\n",
       "        text-align: right;\n",
       "    }\n",
       "</style>\n",
       "<table border=\"1\" class=\"dataframe\">\n",
       "  <thead>\n",
       "    <tr style=\"text-align: right;\">\n",
       "      <th></th>\n",
       "      <th>recive_value</th>\n",
       "    </tr>\n",
       "  </thead>\n",
       "  <tbody>\n",
       "    <tr>\n",
       "      <th>0</th>\n",
       "      <td>10739.0</td>\n",
       "    </tr>\n",
       "    <tr>\n",
       "      <th>1</th>\n",
       "      <td>10571.0</td>\n",
       "    </tr>\n",
       "    <tr>\n",
       "      <th>2</th>\n",
       "      <td>10739.0</td>\n",
       "    </tr>\n",
       "    <tr>\n",
       "      <th>3</th>\n",
       "      <td>10571.0</td>\n",
       "    </tr>\n",
       "    <tr>\n",
       "      <th>4</th>\n",
       "      <td>10571.0</td>\n",
       "    </tr>\n",
       "  </tbody>\n",
       "</table>\n",
       "</div>"
      ],
      "text/plain": [
       "   recive_value\n",
       "0       10739.0\n",
       "1       10571.0\n",
       "2       10739.0\n",
       "3       10571.0\n",
       "4       10571.0"
      ]
     },
     "execution_count": 12,
     "metadata": {},
     "output_type": "execute_result"
    }
   ],
   "source": [
    "df_signal_recv = pd.read_csv(filename,delimiter=',')\n",
    "print(df_signal_recv.shape)\n",
    "df_signal_recv = df_signal_recv[['recive_value']]\n",
    "df_signal_recv.head()"
   ]
  },
  {
   "cell_type": "code",
   "execution_count": 13,
   "metadata": {},
   "outputs": [
    {
     "name": "stdout",
     "output_type": "stream",
     "text": [
      "(5209, 2)\n"
     ]
    },
    {
     "data": {
      "text/html": [
       "<div>\n",
       "<style scoped>\n",
       "    .dataframe tbody tr th:only-of-type {\n",
       "        vertical-align: middle;\n",
       "    }\n",
       "\n",
       "    .dataframe tbody tr th {\n",
       "        vertical-align: top;\n",
       "    }\n",
       "\n",
       "    .dataframe thead th {\n",
       "        text-align: right;\n",
       "    }\n",
       "</style>\n",
       "<table border=\"1\" class=\"dataframe\">\n",
       "  <thead>\n",
       "    <tr style=\"text-align: right;\">\n",
       "      <th></th>\n",
       "      <th>canal_1</th>\n",
       "      <th>recive_value</th>\n",
       "    </tr>\n",
       "  </thead>\n",
       "  <tbody>\n",
       "    <tr>\n",
       "      <th>0</th>\n",
       "      <td>-1.073938e+09</td>\n",
       "      <td>10739.0</td>\n",
       "    </tr>\n",
       "    <tr>\n",
       "      <th>1</th>\n",
       "      <td>-1.057161e+09</td>\n",
       "      <td>10571.0</td>\n",
       "    </tr>\n",
       "    <tr>\n",
       "      <th>2</th>\n",
       "      <td>-1.073938e+09</td>\n",
       "      <td>10739.0</td>\n",
       "    </tr>\n",
       "    <tr>\n",
       "      <th>3</th>\n",
       "      <td>-1.057161e+09</td>\n",
       "      <td>10571.0</td>\n",
       "    </tr>\n",
       "    <tr>\n",
       "      <th>4</th>\n",
       "      <td>-1.057161e+09</td>\n",
       "      <td>10571.0</td>\n",
       "    </tr>\n",
       "  </tbody>\n",
       "</table>\n",
       "</div>"
      ],
      "text/plain": [
       "        canal_1  recive_value\n",
       "0 -1.073938e+09       10739.0\n",
       "1 -1.057161e+09       10571.0\n",
       "2 -1.073938e+09       10739.0\n",
       "3 -1.057161e+09       10571.0\n",
       "4 -1.057161e+09       10571.0"
      ]
     },
     "execution_count": 13,
     "metadata": {},
     "output_type": "execute_result"
    }
   ],
   "source": [
    "df_signal = df_signal_ori.merge(df_signal_recv,left_index=True,right_index=True)\n",
    "print(df_signal.shape)\n",
    "df_signal.head()"
   ]
  },
  {
   "cell_type": "code",
   "execution_count": 14,
   "metadata": {},
   "outputs": [],
   "source": [
    "div = 100000 #para envio de valores muy altos y no modificar funcion de envio\n",
    "for i,row in enumerate(df_signal.iterrows()):\n",
    "    ECG = abs(int(row[1]['canal_1']/div))\n",
    "    PPG = abs(int(row[1]['recive_value']))\n",
    "    if i%50 == 0:\n",
    "        envio_sync()\n",
    "    envio_dato(ECG,PPG)\n",
    "    #if i > 10000:\n",
    "    #    break"
   ]
  },
  {
   "cell_type": "code",
   "execution_count": 58,
   "metadata": {},
   "outputs": [
    {
     "data": {
      "text/plain": [
       "'C:\\\\misArchivos\\\\gibio\\\\30192020\\\\process'"
      ]
     },
     "execution_count": 58,
     "metadata": {},
     "output_type": "execute_result"
    }
   ],
   "source": [
    "os.getcwd()"
   ]
  },
  {
   "cell_type": "code",
   "execution_count": 59,
   "metadata": {},
   "outputs": [],
   "source": [
    "#exportamos\n",
    "df_signal.to_csv('signal.csv',encoding='latin1',index=False)"
   ]
  },
  {
   "cell_type": "code",
   "execution_count": 60,
   "metadata": {},
   "outputs": [
    {
     "data": {
      "text/plain": [
       "-1073938000.0"
      ]
     },
     "execution_count": 60,
     "metadata": {},
     "output_type": "execute_result"
    }
   ],
   "source": [
    "-1.073938e+09"
   ]
  },
  {
   "cell_type": "code",
   "execution_count": null,
   "metadata": {},
   "outputs": [],
   "source": []
  }
 ],
 "metadata": {
  "kernelspec": {
   "display_name": "Python 3",
   "language": "python",
   "name": "python3"
  },
  "language_info": {
   "codemirror_mode": {
    "name": "ipython",
    "version": 3
   },
   "file_extension": ".py",
   "mimetype": "text/x-python",
   "name": "python",
   "nbconvert_exporter": "python",
   "pygments_lexer": "ipython3",
   "version": "3.8.3"
  }
 },
 "nbformat": 4,
 "nbformat_minor": 4
}
